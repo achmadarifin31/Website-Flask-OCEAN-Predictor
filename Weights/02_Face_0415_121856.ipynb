{
 "cells": [
  {
   "cell_type": "code",
   "execution_count": 1,
   "metadata": {},
   "outputs": [
    {
     "name": "stderr",
     "output_type": "stream",
     "text": [
      "c:\\Users\\rtx40\\anaconda3\\envs\\OCEAN-2\\lib\\site-packages\\tensorflow_addons\\utils\\tfa_eol_msg.py:23: UserWarning: \n",
      "\n",
      "TensorFlow Addons (TFA) has ended development and introduction of new features.\n",
      "TFA has entered a minimal maintenance and release mode until a planned end of life in May 2024.\n",
      "Please modify downstream libraries to take dependencies from other repositories in our TensorFlow community (e.g. Keras, Keras-CV, and Keras-NLP). \n",
      "\n",
      "For more information see: https://github.com/tensorflow/addons/issues/2807 \n",
      "\n",
      "  warnings.warn(\n",
      "c:\\Users\\rtx40\\anaconda3\\envs\\OCEAN-2\\lib\\site-packages\\tensorflow_addons\\utils\\ensure_tf_install.py:53: UserWarning: Tensorflow Addons supports using Python ops for all Tensorflow versions above or equal to 2.12.0 and strictly below 2.15.0 (nightly versions are not supported). \n",
      " The versions of TensorFlow you are currently using is 2.10.0 and is not supported. \n",
      "Some things might work, some things might not.\n",
      "If you were to encounter a bug, do not file an issue.\n",
      "If you want to make sure you're using a tested and supported configuration, either change the TensorFlow version or the TensorFlow Addons's version. \n",
      "You can find the compatibility matrix in TensorFlow Addon's readme:\n",
      "https://github.com/tensorflow/addons\n",
      "  warnings.warn(\n"
     ]
    }
   ],
   "source": [
    "import tensorflow as tf \n",
    "from tensorflow import keras \n",
    "import tensorflow_addons as tfa\n",
    "import tensorflow_hub as hub \n",
    "from sklearn.metrics import mean_absolute_error \n",
    "import numpy as np \n",
    "import datetime\n",
    "from keras_vggface.vggface import VGGFace"
   ]
  },
  {
   "cell_type": "markdown",
   "metadata": {},
   "source": [
    "### Load data"
   ]
  },
  {
   "cell_type": "code",
   "execution_count": 2,
   "metadata": {},
   "outputs": [
    {
     "name": "stdout",
     "output_type": "stream",
     "text": [
      "WARNING:tensorflow:From C:\\Users\\rtx40\\AppData\\Local\\Temp\\ipykernel_30644\\3936919385.py:1: load (from tensorflow.python.data.experimental.ops.io) is deprecated and will be removed in a future version.\n",
      "Instructions for updating:\n",
      "Use `tf.data.Dataset.load(...)` instead.\n"
     ]
    },
    {
     "data": {
      "text/plain": [
       "(<PrefetchDataset element_spec=(TensorSpec(shape=(None, 10, 224, 224, 3), dtype=tf.float32, name=None), TensorSpec(shape=(None, 5), dtype=tf.float32, name=None))>,\n",
       " <PrefetchDataset element_spec=(TensorSpec(shape=(None, 10, 224, 224, 3), dtype=tf.float32, name=None), TensorSpec(shape=(None, 5), dtype=tf.float32, name=None))>)"
      ]
     },
     "execution_count": 2,
     "metadata": {},
     "output_type": "execute_result"
    }
   ],
   "source": [
    "train_ds = tf.data.experimental.load('./data/videofaces_224/train_ds/') \\\n",
    "    .cache().shuffle(buffer_size=1000, seed=42).prefetch(buffer_size=tf.data.AUTOTUNE)\n",
    "\n",
    "valid_ds = tf.data.experimental.load('./data/videofaces_224/val_ds') \\\n",
    "    .cache().shuffle(buffer_size=1000, seed=42).prefetch(buffer_size=tf.data.AUTOTUNE)\n",
    "\n",
    "train_ds, valid_ds"
   ]
  },
  {
   "cell_type": "markdown",
   "metadata": {},
   "source": [
    "### Load VGGFace"
   ]
  },
  {
   "cell_type": "code",
   "execution_count": 3,
   "metadata": {},
   "outputs": [
    {
     "name": "stdout",
     "output_type": "stream",
     "text": [
      "Model: \"vggface_vgg16\"\n",
      "_________________________________________________________________\n",
      " Layer (type)                Output Shape              Param #   \n",
      "=================================================================\n",
      " input_1 (InputLayer)        [(None, None, None, 3)]   0         \n",
      "                                                                 \n",
      " conv1_1 (Conv2D)            (None, None, None, 64)    1792      \n",
      "                                                                 \n",
      " conv1_2 (Conv2D)            (None, None, None, 64)    36928     \n",
      "                                                                 \n",
      " pool1 (MaxPooling2D)        (None, None, None, 64)    0         \n",
      "                                                                 \n",
      " conv2_1 (Conv2D)            (None, None, None, 128)   73856     \n",
      "                                                                 \n",
      " conv2_2 (Conv2D)            (None, None, None, 128)   147584    \n",
      "                                                                 \n",
      " pool2 (MaxPooling2D)        (None, None, None, 128)   0         \n",
      "                                                                 \n",
      " conv3_1 (Conv2D)            (None, None, None, 256)   295168    \n",
      "                                                                 \n",
      " conv3_2 (Conv2D)            (None, None, None, 256)   590080    \n",
      "                                                                 \n",
      " conv3_3 (Conv2D)            (None, None, None, 256)   590080    \n",
      "                                                                 \n",
      " pool3 (MaxPooling2D)        (None, None, None, 256)   0         \n",
      "                                                                 \n",
      " conv4_1 (Conv2D)            (None, None, None, 512)   1180160   \n",
      "                                                                 \n",
      " conv4_2 (Conv2D)            (None, None, None, 512)   2359808   \n",
      "                                                                 \n",
      " conv4_3 (Conv2D)            (None, None, None, 512)   2359808   \n",
      "                                                                 \n",
      " pool4 (MaxPooling2D)        (None, None, None, 512)   0         \n",
      "                                                                 \n",
      " conv5_1 (Conv2D)            (None, None, None, 512)   2359808   \n",
      "                                                                 \n",
      " conv5_2 (Conv2D)            (None, None, None, 512)   2359808   \n",
      "                                                                 \n",
      " conv5_3 (Conv2D)            (None, None, None, 512)   2359808   \n",
      "                                                                 \n",
      " pool5 (MaxPooling2D)        (None, None, None, 512)   0         \n",
      "                                                                 \n",
      " global_max_pooling2d (Globa  (None, 512)              0         \n",
      " lMaxPooling2D)                                                  \n",
      "                                                                 \n",
      "=================================================================\n",
      "Total params: 14,714,688\n",
      "Trainable params: 0\n",
      "Non-trainable params: 14,714,688\n",
      "_________________________________________________________________\n"
     ]
    }
   ],
   "source": [
    "# Load model VGGFace\n",
    "vggface = VGGFace(include_top=False, model='vgg16', weights='vggface', pooling='max')\n",
    "\n",
    "# Membekukan layer agar tidak dilatih ulang\n",
    "vggface.trainable = False\n",
    "\n",
    "# Memastikan struktur model VGGFace\n",
    "vggface.summary()"
   ]
  },
  {
   "cell_type": "markdown",
   "metadata": {},
   "source": [
    "### Build Face Model"
   ]
  },
  {
   "cell_type": "code",
   "execution_count": 4,
   "metadata": {},
   "outputs": [
    {
     "data": {
      "image/png": "[encoded data removed]",
      "text/plain": [
       "<IPython.core.display.Image object>"
      ]
     },
     "execution_count": 4,
     "metadata": {},
     "output_type": "execute_result"
    }
   ],
   "source": [
    "inputs = keras.layers.Input(shape=(10, 224, 224, 3), name='Input')\n",
    "\n",
    "x = keras.layers.TimeDistributed(keras.layers.Rescaling(scale=1./255.0), name='Rescaling')(inputs)\n",
    "x = keras.layers.TimeDistributed(vggface, name='vggface')(x)\n",
    "\n",
    "x = keras.layers.LSTM(units=128, return_sequences=True)(x)\n",
    "x = keras.layers.LSTM(units=64)(x)\n",
    "\n",
    "x = keras.layers.Dropout(0.2)(x)\n",
    "\n",
    "x = keras.layers.Dense(units=1024)(x)\n",
    "x = keras.layers.Dense(units=512, activation='relu')(x)  \n",
    "\n",
    "x = keras.layers.Dense(256, activation='relu')(x)\n",
    "x = keras.layers.Dropout(0.5)(x)\n",
    "\n",
    "x = keras.layers.Dense(5, activation='sigmoid')(x)  \n",
    "\n",
    "# Definisi model\n",
    "model = keras.models.Model(inputs=inputs, outputs=x)\n",
    "\n",
    "# Menampilkan arsitektur model\n",
    "keras.utils.plot_model(model, show_shapes=True)"
   ]
  },
  {
   "cell_type": "markdown",
   "metadata": {},
   "source": [
    "### Compile model"
   ]
  },
  {
   "cell_type": "code",
   "execution_count": 5,
   "metadata": {},
   "outputs": [
    {
     "name": "stdout",
     "output_type": "stream",
     "text": [
      "[INFO] Model dikompilasi dengan Adam optimizer. Checkpoint disimpan di './weights/face/0415_121856/face.t5'\n"
     ]
    }
   ],
   "source": [
    "import datetime\n",
    "import os\n",
    "from tensorflow import keras\n",
    "\n",
    "# Membuat timestamp untuk penamaan file\n",
    "t = datetime.datetime.now().strftime(\"%m%d_%H%M%S\")\n",
    "\n",
    "# Menggunakan optimizer Adam\n",
    "optimizer = keras.optimizers.Adam()\n",
    "\n",
    "# Membuat folder untuk checkpoint jika belum ada\n",
    "checkpoint_dir = f'./weights/face/{t}/'\n",
    "os.makedirs(checkpoint_dir, exist_ok=True)\n",
    "\n",
    "# Callbacks\n",
    "early_stopping = keras.callbacks.EarlyStopping(patience=10, verbose=0)\n",
    "check_point = keras.callbacks.ModelCheckpoint(\n",
    "    filepath=f'./weights/face/{t}/face.t5',  \n",
    "    monitor='val_mae',\n",
    "    mode='min',\n",
    "    save_best_only=True,\n",
    "    save_weights_only=True,\n",
    "    verbose=0\n",
    ")\n",
    "\n",
    "# Compile model\n",
    "model.compile(loss='mse', optimizer=optimizer, metrics=['mae'])\n",
    "\n",
    "# Print konfirmasi\n",
    "print(f\"[INFO] Model dikompilasi dengan Adam optimizer. Checkpoint disimpan di '{checkpoint_dir}face.t5'\")\n"
   ]
  },
  {
   "cell_type": "markdown",
   "metadata": {},
   "source": [
    "### Train"
   ]
  },
  {
   "cell_type": "code",
   "execution_count": null,
   "metadata": {},
   "outputs": [
    {
     "name": "stdout",
     "output_type": "stream",
     "text": [
      "Epoch 1/100\n",
      "750/750 [==============================] - 289s 284ms/step - loss: 0.0218 - mae: 0.1185 - val_loss: 0.0194 - val_mae: 0.1119\n",
      "Epoch 2/100\n",
      "750/750 [==============================] - 210s 281ms/step - loss: 0.0205 - mae: 0.1146 - val_loss: 0.0184 - val_mae: 0.1085\n",
      "Epoch 3/100\n",
      "750/750 [==============================] - 214s 285ms/step - loss: 0.0203 - mae: 0.1142 - val_loss: 0.0203 - val_mae: 0.1143\n",
      "Epoch 4/100\n",
      "750/750 [==============================] - 225s 300ms/step - loss: 0.0194 - mae: 0.1116 - val_loss: 0.0189 - val_mae: 0.1105\n",
      "Epoch 5/100\n",
      "750/750 [==============================] - 222s 296ms/step - loss: 0.0188 - mae: 0.1096 - val_loss: 0.0174 - val_mae: 0.1058\n",
      "Epoch 6/100\n",
      "750/750 [==============================] - 216s 288ms/step - loss: 0.0183 - mae: 0.1080 - val_loss: 0.0172 - val_mae: 0.1048\n",
      "Epoch 7/100\n",
      "750/750 [==============================] - 218s 290ms/step - loss: 0.0182 - mae: 0.1081 - val_loss: 0.0170 - val_mae: 0.1043\n",
      "Epoch 8/100\n",
      "750/750 [==============================] - 221s 294ms/step - loss: 0.0178 - mae: 0.1065 - val_loss: 0.0165 - val_mae: 0.1028\n",
      "Epoch 9/100\n",
      "750/750 [==============================] - 215s 287ms/step - loss: 0.0177 - mae: 0.1063 - val_loss: 0.0167 - val_mae: 0.1036\n",
      "Epoch 10/100\n",
      "750/750 [==============================] - 221s 295ms/step - loss: 0.0173 - mae: 0.1051 - val_loss: 0.0169 - val_mae: 0.1044\n",
      "Epoch 11/100\n",
      "750/750 [==============================] - 219s 293ms/step - loss: 0.0169 - mae: 0.1036 - val_loss: 0.0160 - val_mae: 0.1011\n",
      "Epoch 12/100\n",
      "750/750 [==============================] - 215s 286ms/step - loss: 0.0167 - mae: 0.1034 - val_loss: 0.0173 - val_mae: 0.1049\n",
      "Epoch 13/100\n",
      "750/750 [==============================] - 219s 292ms/step - loss: 0.0163 - mae: 0.1020 - val_loss: 0.0157 - val_mae: 0.0999\n",
      "Epoch 14/100\n",
      "750/750 [==============================] - 214s 286ms/step - loss: 0.0161 - mae: 0.1012 - val_loss: 0.0163 - val_mae: 0.1018\n",
      "Epoch 15/100\n",
      "750/750 [==============================] - 217s 289ms/step - loss: 0.0157 - mae: 0.0998 - val_loss: 0.0177 - val_mae: 0.1070\n",
      "Epoch 16/100\n",
      "750/750 [==============================] - 220s 293ms/step - loss: 0.0152 - mae: 0.0985 - val_loss: 0.0182 - val_mae: 0.1078\n",
      "Epoch 17/100\n",
      "750/750 [==============================] - 218s 291ms/step - loss: 0.0151 - mae: 0.0983 - val_loss: 0.0152 - val_mae: 0.0983\n",
      "Epoch 18/100\n",
      "750/750 [==============================] - 214s 285ms/step - loss: 0.0148 - mae: 0.0971 - val_loss: 0.0182 - val_mae: 0.1087\n",
      "Epoch 19/100\n",
      "750/750 [==============================] - 234s 312ms/step - loss: 0.0146 - mae: 0.0964 - val_loss: 0.0157 - val_mae: 0.0997\n",
      "Epoch 20/100\n",
      "750/750 [==============================] - 238s 318ms/step - loss: 0.0141 - mae: 0.0948 - val_loss: 0.0163 - val_mae: 0.1019\n",
      "Epoch 21/100\n",
      "750/750 [==============================] - 227s 302ms/step - loss: 0.0139 - mae: 0.0941 - val_loss: 0.0149 - val_mae: 0.0973\n",
      "Epoch 22/100\n",
      "750/750 [==============================] - 219s 292ms/step - loss: 0.0136 - mae: 0.0933 - val_loss: 0.0165 - val_mae: 0.1029\n",
      "Epoch 23/100\n",
      "750/750 [==============================] - 216s 288ms/step - loss: 0.0132 - mae: 0.0916 - val_loss: 0.0148 - val_mae: 0.0971\n",
      "Epoch 24/100\n",
      "750/750 [==============================] - 218s 290ms/step - loss: 0.0128 - mae: 0.0903 - val_loss: 0.0149 - val_mae: 0.0975\n",
      "Epoch 25/100\n",
      "750/750 [==============================] - 221s 294ms/step - loss: 0.0126 - mae: 0.0896 - val_loss: 0.0152 - val_mae: 0.0981\n",
      "Epoch 26/100\n",
      "750/750 [==============================] - 221s 295ms/step - loss: 0.0122 - mae: 0.0879 - val_loss: 0.0152 - val_mae: 0.0983\n",
      "Epoch 27/100\n",
      "750/750 [==============================] - 218s 291ms/step - loss: 0.0118 - mae: 0.0865 - val_loss: 0.0146 - val_mae: 0.0960\n",
      "Epoch 28/100\n",
      "750/750 [==============================] - 220s 294ms/step - loss: 0.0116 - mae: 0.0858 - val_loss: 0.0155 - val_mae: 0.0991\n",
      "Epoch 29/100\n",
      "750/750 [==============================] - 222s 296ms/step - loss: 0.0114 - mae: 0.0849 - val_loss: 0.0147 - val_mae: 0.0964\n",
      "Epoch 30/100\n",
      "750/750 [==============================] - 227s 303ms/step - loss: 0.0111 - mae: 0.0839 - val_loss: 0.0151 - val_mae: 0.0979\n",
      "Epoch 31/100\n",
      "750/750 [==============================] - 224s 298ms/step - loss: 0.0108 - mae: 0.0826 - val_loss: 0.0153 - val_mae: 0.0984\n",
      "Epoch 32/100\n",
      "750/750 [==============================] - 216s 288ms/step - loss: 0.0104 - mae: 0.0811 - val_loss: 0.0150 - val_mae: 0.0973\n",
      "Epoch 33/100\n",
      "750/750 [==============================] - 218s 291ms/step - loss: 0.0101 - mae: 0.0801 - val_loss: 0.0156 - val_mae: 0.0992\n",
      "Epoch 34/100\n",
      "750/750 [==============================] - 218s 291ms/step - loss: 0.0099 - mae: 0.0791 - val_loss: 0.0151 - val_mae: 0.0975\n",
      "Epoch 35/100\n",
      "750/750 [==============================] - 213s 285ms/step - loss: 0.0095 - mae: 0.0777 - val_loss: 0.0154 - val_mae: 0.0987\n",
      "Epoch 36/100\n",
      "750/750 [==============================] - 216s 288ms/step - loss: 0.0092 - mae: 0.0762 - val_loss: 0.0150 - val_mae: 0.0975\n",
      "Epoch 37/100\n",
      "750/750 [==============================] - 219s 293ms/step - loss: 0.0089 - mae: 0.0751 - val_loss: 0.0155 - val_mae: 0.0987\n"
     ]
    }
   ],
   "source": [
    "history = model.fit(train_ds, validation_data=valid_ds, batch_size=8, epochs=100, callbacks=[early_stopping, check_point])\n",
    "# 0415_121856 - 136m 30s"
   ]
  },
  {
   "cell_type": "markdown",
   "metadata": {},
   "source": [
    "### Load Weights"
   ]
  },
  {
   "cell_type": "code",
   "execution_count": 7,
   "metadata": {},
   "outputs": [
    {
     "data": {
      "text/plain": [
       "<tensorflow.python.checkpoint.checkpoint.CheckpointLoadStatus at 0x22f4180ea30>"
      ]
     },
     "execution_count": 7,
     "metadata": {},
     "output_type": "execute_result"
    }
   ],
   "source": [
    "model.load_weights('./weights/face/0415_121856/face.t5')"
   ]
  },
  {
   "attachments": {},
   "cell_type": "markdown",
   "metadata": {},
   "source": [
    "## Evaluation"
   ]
  },
  {
   "cell_type": "markdown",
   "metadata": {},
   "source": [
    "### Training data"
   ]
  },
  {
   "cell_type": "code",
   "execution_count": 8,
   "metadata": {},
   "outputs": [
    {
     "name": "stdout",
     "output_type": "stream",
     "text": [
      "750/750 [==============================] - 73s 97ms/step - loss: 0.0107 - mae: 0.0825\n"
     ]
    },
    {
     "data": {
      "text/plain": [
       "91.75210893154144"
      ]
     },
     "execution_count": 8,
     "metadata": {},
     "output_type": "execute_result"
    }
   ],
   "source": [
    "train_ds = tf.data.Dataset.load('./data/videofaces_224/train_ds') \n",
    "loss, mae = model.evaluate(train_ds)\n",
    "(1-mae)*100"
   ]
  },
  {
   "cell_type": "code",
   "execution_count": 9,
   "metadata": {},
   "outputs": [
    {
     "name": "stdout",
     "output_type": "stream",
     "text": [
      "750/750 [==============================] - 73s 96ms/step\n"
     ]
    },
    {
     "data": {
      "text/plain": [
       "(array([91.655876, 91.44499 , 92.14538 , 91.8392  , 91.6751  ],\n",
       "       dtype=float32),\n",
       " 91.75210893154144)"
      ]
     },
     "execution_count": 9,
     "metadata": {},
     "output_type": "execute_result"
    }
   ],
   "source": [
    "y_true = np.concatenate([y for x,y in train_ds])\n",
    "y_pred = model.predict(train_ds)\n",
    "\n",
    "mae = mean_absolute_error(y_true, y_pred, multioutput='raw_values')\n",
    "(1-mae)*100, (1-np.mean(mae))*100"
   ]
  },
  {
   "attachments": {},
   "cell_type": "markdown",
   "metadata": {},
   "source": [
    "### Validation data"
   ]
  },
  {
   "cell_type": "code",
   "execution_count": 10,
   "metadata": {},
   "outputs": [
    {
     "name": "stdout",
     "output_type": "stream",
     "text": [
      "250/250 [==============================] - 24s 97ms/step - loss: 0.0146 - mae: 0.0960\n"
     ]
    },
    {
     "data": {
      "text/plain": [
       "90.39527475833893"
      ]
     },
     "execution_count": 10,
     "metadata": {},
     "output_type": "execute_result"
    }
   ],
   "source": [
    "valid_ds = tf.data.experimental.load('./data/videofaces_224/val_ds/') \n",
    "loss, mae = model.evaluate(valid_ds)\n",
    "(1-mae)*100"
   ]
  },
  {
   "cell_type": "code",
   "execution_count": 11,
   "metadata": {},
   "outputs": [
    {
     "name": "stdout",
     "output_type": "stream",
     "text": [
      "250/250 [==============================] - 24s 97ms/step\n"
     ]
    },
    {
     "data": {
      "text/plain": [
       "(array([90.307945, 90.1761  , 90.468346, 90.91388 , 90.110146],\n",
       "       dtype=float32),\n",
       " 90.3952844440937)"
      ]
     },
     "execution_count": 11,
     "metadata": {},
     "output_type": "execute_result"
    }
   ],
   "source": [
    "y_true = np.concatenate([y for x,y in valid_ds])\n",
    "y_pred = model.predict(valid_ds)\n",
    "\n",
    "mae = mean_absolute_error(y_true, y_pred, multioutput='raw_values')\n",
    "(1-mae)*100, (1-np.mean(mae))*100"
   ]
  },
  {
   "cell_type": "markdown",
   "metadata": {},
   "source": [
    "### Test data"
   ]
  },
  {
   "cell_type": "code",
   "execution_count": 12,
   "metadata": {},
   "outputs": [
    {
     "name": "stdout",
     "output_type": "stream",
     "text": [
      "250/250 [==============================] - 24s 97ms/step - loss: 0.0150 - mae: 0.0972\n"
     ]
    },
    {
     "data": {
      "text/plain": [
       "90.28475135564804"
      ]
     },
     "execution_count": 12,
     "metadata": {},
     "output_type": "execute_result"
    }
   ],
   "source": [
    "test_ds = tf.data.experimental.load('./data/videofaces_224/test_ds')\n",
    "loss, mae = model.evaluate(test_ds)\n",
    "(1-mae)*100"
   ]
  },
  {
   "cell_type": "code",
   "execution_count": 13,
   "metadata": {},
   "outputs": [
    {
     "name": "stdout",
     "output_type": "stream",
     "text": [
      "250/250 [==============================] - 24s 97ms/step\n"
     ]
    },
    {
     "data": {
      "text/plain": [
       "(array([90.36286, 90.15109, 90.37789, 90.58034, 89.95158], dtype=float32),\n",
       " 90.28474986553192)"
      ]
     },
     "execution_count": 13,
     "metadata": {},
     "output_type": "execute_result"
    }
   ],
   "source": [
    "y_true = np.concatenate([y for x,y in test_ds])\n",
    "y_pred = model.predict(test_ds)\n",
    "\n",
    "mae = mean_absolute_error(y_true, y_pred, multioutput='raw_values')\n",
    "(1-mae)*100, (1-np.mean(mae))*100"
   ]
  }
 ],
 "metadata": {
  "kernelspec": {
   "display_name": "OCEAN-2",
   "language": "python",
   "name": "python3"
  },
  "language_info": {
   "codemirror_mode": {
    "name": "ipython",
    "version": 3
   },
   "file_extension": ".py",
   "mimetype": "text/x-python",
   "name": "python",
   "nbconvert_exporter": "python",
   "pygments_lexer": "ipython3",
   "version": "3.9.21"
  },
  "orig_nbformat": 4
 },
 "nbformat": 4,
 "nbformat_minor": 2
}
